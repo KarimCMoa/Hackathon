{
 "cells": [
  {
   "cell_type": "code",
   "execution_count": 58,
   "metadata": {},
   "outputs": [],
   "source": [
    "import torch\n",
    "import torch.nn as nn\n",
    "import torch.optim as optim\n"
   ]
  },
  {
   "cell_type": "code",
   "execution_count": 72,
   "metadata": {},
   "outputs": [],
   "source": [
    "\n",
    "INPUT_LENGHT = 14\n",
    "OUTPUT_LENGHT = INPUT_LENGHT\n",
    "\n",
    "class NeuralNetwork(nn.Module):\n",
    "    def __init__(self):\n",
    "        super(NeuralNetwork, self).__init__()\n",
    "        self.layer1 = nn.Linear(INPUT_LENGHT, 50)  # Input layer with 10 features and 50 outputs\n",
    "        self.relu = nn.ReLU()            # ReLU activation function\n",
    "        self.layer2 = nn.Linear(50, 50)\n",
    "\n",
    "        self.layer3 = nn.Linear(50, OUTPUT_LENGHT)   # Output layer with 1 output\n",
    "\n",
    "    def forward(self, x):\n",
    "        x = self.layer1(x)\n",
    "        x = self.relu(x)\n",
    "        x = self.layer2(x)\n",
    "        x = self.relu(x)\n",
    "        x = self.layer3(x)\n",
    "        return x\n",
    "    "
   ]
  },
  {
   "cell_type": "code",
   "execution_count": 74,
   "metadata": {},
   "outputs": [],
   "source": [
    "model = NeuralNetwork()\n",
    "optimizer = optim.SGD(model.parameters(), lr=0.01)  # Using SGD optimizer\n",
    "loss_function = nn.MSELoss()  # Mean Squared Error Loss for regression tasks"
   ]
  },
  {
   "cell_type": "code",
   "execution_count": 75,
   "metadata": {},
   "outputs": [
    {
     "name": "stdout",
     "output_type": "stream",
     "text": [
      "{1: 'a', 2: 'b', 3: 'c', 4: 'd', 5: 'e', 6: 'f', 7: 'g', 8: 'h', 9: 'i', 10: 'j', 11: 'k', 12: 'l', 13: 'm', 14: 'n', 15: 'o', 16: 'p', 17: 'q', 18: 'r', 19: 's', 20: 't', 21: 'u', 22: 'v', 23: 'w', 24: 'x', 25: 'y', 26: 'z', 0: ' ', 27: '0', 28: '1', 29: '2', 30: '3', 31: '4', 32: '5', 33: '6', 34: '7', 35: '8', 36: '9'}\n",
      "{'a': 1, 'b': 2, 'c': 3, 'd': 4, 'e': 5, 'f': 6, 'g': 7, 'h': 8, 'i': 9, 'j': 10, 'k': 11, 'l': 12, 'm': 13, 'n': 14, 'o': 15, 'p': 16, 'q': 17, 'r': 18, 's': 19, 't': 20, 'u': 21, 'v': 22, 'w': 23, 'x': 24, 'y': 25, 'z': 26, ' ': 0, '0': 27, '1': 28, '2': 29, '3': 30, '4': 31, '5': 32, '6': 33, '7': 34, '8': 35, '9': 36}\n"
     ]
    }
   ],
   "source": [
    "\n",
    "chr_to_index = {chr(i): i + 1 - ord('a') for i in range( ord('a'), ord('z')+1 )}\n",
    "index_to_chr = {i + 1- ord('a'): chr(i) for i in range( ord('a'), ord('z')+1 )}\n",
    "chr_to_index[' '] = 0\n",
    "index_to_chr[0] = ' '\n",
    "for i in range(10):\n",
    "    chr_to_index[str(i)] = i + 27\n",
    "    index_to_chr[i + 27] = str(i)\n",
    "\n",
    "print(index_to_chr)\n",
    "print(chr_to_index)\n",
    "# chr_to_index type must be long\n",
    "#chr_to_index = {k: torch.tensor(v, dtype=torch.long) for k, v in chr_to_index.items()}\n",
    "#index_to_chr = {torch.tensor(k, dtype=torch.long): v for k, v in index_to_chr.items()}\n",
    "\n",
    "\n",
    "def str_to_tensor(word):\n",
    "    tensor = torch.zeros(INPUT_LENGHT)\n",
    "    for c, char in enumerate(word):\n",
    "        if c >= INPUT_LENGHT:\n",
    "            break\n",
    "        if char.lower() not in chr_to_index:\n",
    "            value = 0\n",
    "        else:\n",
    "            value = (chr_to_index[char.lower()] + 0.5) / 36\n",
    "        #print(value)\n",
    "        tensor[c] = value\n",
    "    return tensor\n",
    "\n",
    "def tensor_to_str(tensor):\n",
    "    s = ''\n",
    "    for i in tensor:\n",
    "        index = int(i.item() * 36)\n",
    "        index = max(0, min(35, index))\n",
    "        s += index_to_chr[index]\n",
    "    return s\n",
    "\n"
   ]
  },
  {
   "cell_type": "code",
   "execution_count": 83,
   "metadata": {},
   "outputs": [
    {
     "name": "stdout",
     "output_type": "stream",
     "text": [
      "tensor([[0.1806, 0.4306, 0.5139, 0.5694, 0.5972, 0.4028, 0.0417, 0.0139, 0.3750,\n",
      "         0.0417, 0.2917, 0.4306, 0.5139, 0.0000],\n",
      "        [0.0972, 0.4306, 0.1250, 0.1528, 0.0000, 0.0000, 0.0000, 0.0000, 0.0000,\n",
      "         0.0000, 0.0000, 0.0000, 0.0000, 0.0000],\n",
      "        [0.2639, 0.4028, 0.0417, 0.3194, 0.2639, 0.0000, 0.0000, 0.0000, 0.0000,\n",
      "         0.0000, 0.0000, 0.0000, 0.0000, 0.0000],\n",
      "        [0.0417, 0.7083, 0.3750, 0.1528, 0.5139, 0.2639, 0.0972, 0.0000, 0.0000,\n",
      "         0.0000, 0.0000, 0.0000, 0.0000, 0.0000],\n",
      "        [0.4583, 0.7083, 0.5694, 0.2361, 0.4306, 0.4028, 0.0000, 0.0000, 0.0000,\n",
      "         0.0000, 0.0000, 0.0000, 0.0000, 0.0000],\n",
      "        [0.2361, 0.1528, 0.3472, 0.3472, 0.4306, 0.0000, 0.0000, 0.0000, 0.0000,\n",
      "         0.0000, 0.0000, 0.0000, 0.0000, 0.0000],\n",
      "        [0.0694, 0.4306, 0.4028, 0.2917, 0.4306, 0.5972, 0.5139, 0.0000, 0.0000,\n",
      "         0.0000, 0.0000, 0.0000, 0.0000, 0.0000],\n",
      "        [0.5694, 0.1528, 0.5417, 0.5694, 0.0000, 0.0000, 0.0000, 0.0000, 0.0000,\n",
      "         0.0000, 0.0000, 0.0000, 0.0000, 0.0000],\n",
      "        [0.5417, 0.0417, 0.3472, 0.5972, 0.5694, 0.0000, 0.0000, 0.0000, 0.0000,\n",
      "         0.0000, 0.0000, 0.0000, 0.0000, 0.0000],\n",
      "        [0.1250, 0.4306, 0.4028, 0.4028, 0.1528, 0.0139, 0.3472, 0.1528, 0.0139,\n",
      "         0.0972, 0.4306, 0.1250, 0.1528, 0.0000]])\n"
     ]
    }
   ],
   "source": [
    "\n",
    "same = ['hello', 'bonjour', 'test', 'salut', 'donne le code']\n",
    "inputs = ['fortuna major', 'code', 'inaki', 'aymeric', 'python'] + same\n",
    "right_output = ['code est 8135', 'ou est il', 'quel bg', 'un monstre', 'pip install'] + same\n",
    "\n",
    "\n",
    "inputs = [str_to_tensor(i) for i in inputs]\n",
    "right_output = [str_to_tensor(i) for i in right_output]\n",
    "#print(inputs)\n",
    "# combine the inputs into a single tensor\n",
    "inputs = torch.stack(inputs)\n",
    "right_output = torch.stack(right_output)\n",
    "print(inputs)\n",
    "\n",
    "# use torch random inputs\n",
    "#inputs = torch.randn(10, 14)\n",
    "#right_output = torch.randn(10, 14)\n",
    "#print(inputs)\n"
   ]
  },
  {
   "cell_type": "code",
   "execution_count": 84,
   "metadata": {},
   "outputs": [
    {
     "name": "stdout",
     "output_type": "stream",
     "text": [
      "Epoch 1000, Loss: 0.002763418946415186\n",
      "Epoch 2000, Loss: 0.0023968955501914024\n",
      "Epoch 3000, Loss: 0.002159910276532173\n",
      "Epoch 4000, Loss: 0.0019814076367765665\n",
      "Epoch 5000, Loss: 0.001826634630560875\n",
      "Epoch 6000, Loss: 0.0016901487251743674\n",
      "Epoch 7000, Loss: 0.0015828699106350541\n",
      "Epoch 8000, Loss: 0.0014867369318380952\n",
      "Epoch 9000, Loss: 0.0014033811166882515\n",
      "Epoch 10000, Loss: 0.0013314631069079041\n",
      "Epoch 11000, Loss: 0.0012638071784749627\n",
      "Epoch 12000, Loss: 0.00119974953122437\n",
      "Epoch 13000, Loss: 0.0011388789862394333\n",
      "Epoch 14000, Loss: 0.0010809716768562794\n",
      "Epoch 15000, Loss: 0.0010256328387185931\n",
      "Epoch 16000, Loss: 0.0009727709111757576\n",
      "Epoch 17000, Loss: 0.0009222456137649715\n",
      "Epoch 18000, Loss: 0.000873950426466763\n",
      "Epoch 19000, Loss: 0.0008279104367829859\n",
      "Epoch 20000, Loss: 0.0007839328027330339\n",
      "Epoch 21000, Loss: 0.0007419432513415813\n",
      "Epoch 22000, Loss: 0.00070201262133196\n",
      "Epoch 23000, Loss: 0.0006640531937591732\n",
      "Epoch 24000, Loss: 0.0006278999499045312\n",
      "Epoch 25000, Loss: 0.0005934883374720812\n",
      "Epoch 26000, Loss: 0.0005607504863291979\n",
      "Epoch 27000, Loss: 0.0005296239978633821\n",
      "Epoch 28000, Loss: 0.0005002906545996666\n",
      "Epoch 29000, Loss: 0.00047247117618098855\n",
      "Epoch 30000, Loss: 0.00044609425822272897\n",
      "Epoch 31000, Loss: 0.00042109412606805563\n",
      "Epoch 32000, Loss: 0.000397434487240389\n",
      "Epoch 33000, Loss: 0.0003751241893041879\n",
      "Epoch 34000, Loss: 0.00035403453512117267\n",
      "Epoch 35000, Loss: 0.00033409593743272126\n",
      "Epoch 36000, Loss: 0.00031525519443675876\n",
      "Epoch 37000, Loss: 0.00029746320797130466\n",
      "Epoch 38000, Loss: 0.0002806592092383653\n",
      "Epoch 39000, Loss: 0.00026480911765247583\n",
      "Epoch 40000, Loss: 0.000249841803452\n",
      "Epoch 41000, Loss: 0.0002357388730160892\n",
      "Epoch 42000, Loss: 0.00022244967112783343\n",
      "Epoch 43000, Loss: 0.000209930949495174\n",
      "Epoch 44000, Loss: 0.000198130845092237\n",
      "Epoch 45000, Loss: 0.00018701415683608502\n",
      "Epoch 46000, Loss: 0.0001765457564033568\n",
      "Epoch 47000, Loss: 0.00016668981697876006\n",
      "Epoch 48000, Loss: 0.00015740212984383106\n",
      "Epoch 49000, Loss: 0.00014865858247503638\n",
      "Epoch 50000, Loss: 0.00014042278053238988\n"
     ]
    }
   ],
   "source": [
    "for epoch in range(50000):  # Loop over the dataset multiple times\n",
    "    optimizer.zero_grad()   # Zero the parameter gradients\n",
    "\n",
    "    # Forward pass\n",
    "    outputs = model(inputs)\n",
    "    loss = loss_function(outputs, right_output)\n",
    "\n",
    "    # Backward pass and optimize\n",
    "    loss.backward()\n",
    "    optimizer.step()\n",
    "\n",
    "    # Print statistics\n",
    "    if epoch % 1000 == 999:\n",
    "        print(f\"Epoch {epoch+1}, Loss: {loss.item()}\")"
   ]
  },
  {
   "cell_type": "code",
   "execution_count": 80,
   "metadata": {},
   "outputs": [
    {
     "name": "stdout",
     "output_type": "stream",
     "text": [
      "Input: '', Output: code est 8135 \n",
      "Input: '', Output: ou est il     \n",
      "Input: '', Output: qufl bg       \n",
      "Input: '', Output: un monstre    \n",
      "Input: '', Output: pip install   \n",
      "Input: '', Output: jfknp         \n",
      "Input: '', Output: bonjour       \n",
      "Input: '', Output: test          \n",
      "Input: '', Output: r mts         \n",
      "Input: '', Output: donne le code \n"
     ]
    }
   ],
   "source": [
    "# Test the model\n",
    "for inp in inputs:\n",
    "    #input = str_to_tensor('Bonjour')\n",
    "    output = model(inp)\n",
    "    str_output = tensor_to_str(output)\n",
    "    print(f\"Input: '', Output: {str_output}\")"
   ]
  },
  {
   "cell_type": "code",
   "execution_count": 82,
   "metadata": {},
   "outputs": [
    {
     "name": "stdout",
     "output_type": "stream",
     "text": [
      "Input: 'iniaki', Output: quel bg       \n",
      "Input: 'aymeric', Output: un monstre    \n",
      "Input: 'hello', Output: iflmp         \n",
      "Input: 'nice', Output: osfigh        \n",
      "Input: 'adfq', Output: emgfuo ae  bb \n",
      "Input: 'azefqsdfqdfs', Output: iy ajxrrhunqr \n",
      "Input: 'qsdf', Output: yrdljl gi     \n",
      "Input: 'fortuna', Output: nbnnqjolehebb \n",
      "Input: 'bonjour', Output: bonjour       \n",
      "Input: 'code', Output: ou est il     \n",
      "Input: 'donne le code', Output: donne le code \n",
      "Input: 'iniaki', Output: quel bg       \n",
      "Input: 'aymeric', Output: un monstre    \n"
     ]
    }
   ],
   "source": [
    "while True:\n",
    "    input_str = input('Enter a string: ')\n",
    "    if input_str == 'exit' or input_str == '':\n",
    "        break\n",
    "\n",
    "    input_tensor = str_to_tensor(input_str)\n",
    "    output = model(input_tensor)\n",
    "    str_output = tensor_to_str(output)\n",
    "    print(f\"Input: '{input_str}', Output: {str_output}\")"
   ]
  },
  {
   "cell_type": "code",
   "execution_count": 85,
   "metadata": {},
   "outputs": [
    {
     "name": "stdout",
     "output_type": "stream",
     "text": [
      "Model saved\n"
     ]
    }
   ],
   "source": [
    "# save the model\n",
    "torch.save(model.state_dict(), 'model.pth')\n",
    "print('Model saved')\n",
    "\n"
   ]
  },
  {
   "cell_type": "code",
   "execution_count": 67,
   "metadata": {},
   "outputs": [
    {
     "name": "stdout",
     "output_type": "stream",
     "text": [
      "Model loaded\n"
     ]
    }
   ],
   "source": [
    "# load the model\n",
    "model = NeuralNetwork()\n",
    "model.load_state_dict(torch.load('model.pth'))\n",
    "model.eval() # set the model to evaluation mode\n",
    "print('Model loaded')"
   ]
  }
 ],
 "metadata": {
  "kernelspec": {
   "display_name": "Python 3",
   "language": "python",
   "name": "python3"
  },
  "language_info": {
   "codemirror_mode": {
    "name": "ipython",
    "version": 3
   },
   "file_extension": ".py",
   "mimetype": "text/x-python",
   "name": "python",
   "nbconvert_exporter": "python",
   "pygments_lexer": "ipython3",
   "version": "3.11.2"
  }
 },
 "nbformat": 4,
 "nbformat_minor": 2
}
